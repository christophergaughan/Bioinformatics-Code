{
 "cells": [
  {
   "cell_type": "markdown",
   "metadata": {},
   "source": [
    "# You can often think of a lot of Bioinformatic projects in this way\n",
    "**you're essentially just searching for words**"
   ]
  },
  {
   "cell_type": "code",
   "execution_count": 8,
   "metadata": {},
   "outputs": [
    {
     "name": "stdout",
     "output_type": "stream",
     "text": [
      "Frequency of  apple is : 3\n",
      "Frequency of  guava is : 1\n",
      "Frequency of  mango is : 3\n",
      "Frequency of  orange is : 2\n",
      "None\n"
     ]
    }
   ],
   "source": [
    "\n",
    "str ='apple mango apple orange orange apple guava mango mango'\n",
    "def freq(str):\n",
    "  \n",
    "    # break the string into list of words\n",
    "    str_list = str.split()\n",
    "  \n",
    "    # gives set of unique words\n",
    "    unique_words = set(str_list)\n",
    "      \n",
    "    for words in unique_words :\n",
    "        print('Frequency of ', words , 'is :', str_list.count(words))\n",
    "        \n",
    "print(freq(str))\n",
    "  "
   ]
  },
  {
   "cell_type": "markdown",
   "metadata": {},
   "source": [
    "# Some Simple Bioinformatics Tools"
   ]
  },
  {
   "cell_type": "markdown",
   "metadata": {},
   "source": [
    "### Find the most common k-mer, where the K-mer is a number of nucleic acids"
   ]
  },
  {
   "cell_type": "code",
   "execution_count": 5,
   "metadata": {},
   "outputs": [
    {
     "name": "stdout",
     "output_type": "stream",
     "text": [
      "The most common k-mer was GAA\n",
      "([('GAA', 2), ('ATA', 2), ('AAT', 1), ('ATT', 1), ('TTC', 1), ('TCG', 1), ('CGA', 1), ('AAA', 1), ('AAG', 1), ('AGA', 1), ('GAT', 1), ('TAT', 1), ('TAG', 1), ('AGC', 1), ('GCC', 1)], 'GAA')\n"
     ]
    }
   ],
   "source": [
    "def build_kmers(sequence, ksize):\n",
    "    counts = dict()\n",
    "    n_kmers = len(sequence) - ksize + 1\n",
    "\n",
    "    for i in range(n_kmers):\n",
    "        kmer = sequence[i:i + ksize]\n",
    "        if kmer in counts:\n",
    "            counts[kmer] += 1\n",
    "        #kmers.append(counts)\n",
    "        else:\n",
    "            counts[kmer] = 1\n",
    "        \n",
    "    sort_counts = sorted(counts.items(), key=lambda x: x[1], reverse=True)\n",
    "    maximum = max(counts, key=counts.get) \n",
    "    print(f'The most common k-mer was {maximum}')\n",
    "    return sort_counts, maximum\n",
    "    \n",
    "\n",
    "print(build_kmers('GAATTCGAAAGATATAGCC', 3))"
   ]
  },
  {
   "cell_type": "markdown",
   "metadata": {},
   "source": []
  },
  {
   "cell_type": "code",
   "execution_count": null,
   "metadata": {},
   "outputs": [],
   "source": [
    "\n",
    "\n"
   ]
  },
  {
   "cell_type": "markdown",
   "metadata": {},
   "source": [
    "### Counting Base Pairs"
   ]
  },
  {
   "cell_type": "code",
   "execution_count": 7,
   "metadata": {},
   "outputs": [
    {
     "name": "stdout",
     "output_type": "stream",
     "text": [
      "{'A': 25, 'C': 24, 'T': 31, 'G': 19}\n",
      "{'A': 25.252525252525256, 'C': 24.242424242424246, 'T': 31.31313131313132, 'G': 19.191919191919194}\n"
     ]
    }
   ],
   "source": [
    "strDNA = \"3’-TACTCTCGTTCTTGCAGCTTGTCAGTACTTTCAGAATCATGGTGTGCATGGTAGAATGACTCTTATAACGAACTTCGACATGGCAATAACCCCCCGATT-5’\"\n",
    "\n",
    "def countAlphabet(strDNA): \n",
    "    dictionary={'A':0,'C':0,'T':0,'G':0}\n",
    "    for x in strDNA:\n",
    "        for key,value in dictionary.items():\n",
    "            if x==key:\n",
    "                dictionary[key]=dictionary[key]+1\n",
    "    dictionary2={'A':0,'C':0,'T':0,'G':0}\n",
    "    for x in strDNA:\n",
    "        for key,value in dictionary.items():\n",
    "            if x==key:\n",
    "                dictionary2[key]=(dictionary2[key]+1/.99) \n",
    "    return dictionary, dictionary2\n",
    "\n",
    "dictionary, dictionary2 = countAlphabet(strDNA)\n",
    "print(dictionary)\n",
    "print(dictionary2)"
   ]
  },
  {
   "cell_type": "markdown",
   "metadata": {},
   "source": [
    "### Find The Complementary base pairs 5'->3'"
   ]
  },
  {
   "cell_type": "code",
   "execution_count": 8,
   "metadata": {},
   "outputs": [
    {
     "name": "stdout",
     "output_type": "stream",
     "text": [
      "5’-ATGAGAGCAAGAACGTCGAACAGTCATGAAAGTCTTAGTACCACACGTACCATCTTACTGAGAATATTGCTTGAAGCTGTACCGTTATTGGGGGGCTAA-3’\n"
     ]
    }
   ],
   "source": [
    "strDNA = \"3’-TACTCTCGTTCTTGCAGCTTGTCAGTACTTTCAGAATCATGGTGTGCATGGTAGAATGACTCTTATAACGAACTTCGACATGGCAATAACCCCCCGATT-5’\"\n",
    "result=\"\"\n",
    "for x in strDNA:\n",
    "    if x==\"T\":\n",
    "        x=\"A\"\n",
    "    elif x==\"A\":\n",
    "        x=\"T\"\n",
    "    elif x==\"C\":\n",
    "        x=\"G\"\n",
    "    elif x==\"G\":\n",
    "        x=\"C\"\n",
    "    elif x==\"3\":\n",
    "        x=\"5\"\n",
    "    elif x==\"5\":\n",
    "        x=\"3\"\n",
    "    result=result+x\n",
    "print(result)"
   ]
  },
  {
   "cell_type": "markdown",
   "metadata": {},
   "source": [
    "### What will be the sequence of mRNA when it is transcribed from DNA\n",
    "**This idea takes some thought: RNA polymerase reads DNA in the 3' to 5' direction, but the product (growing strand) is in the 5'->3' direction, so when you have to write an answer on a test- you need to write it in this manner**"
   ]
  },
  {
   "cell_type": "code",
   "execution_count": 4,
   "metadata": {},
   "outputs": [
    {
     "name": "stdout",
     "output_type": "stream",
     "text": [
      "’5-UUAGCCCCCCAAUAACGGUACAGCUUCAAGCAAUAUUCUCAGUAAGAUGGUACGUGUGGUACUAAGACUUUCAUGACUGUUCGACGUUCUUGCUCUCAU-’3\n",
      "This is how the transcript should be written- Don't get caught after doing all that work\n"
     ]
    }
   ],
   "source": [
    "strDNA = \"3’-TACTCTCGTTCTTGCAGCTTGTCAGTACTTTCAGAATCATGGTGTGCATGGTAGAATGACTCTTATAACGAACTTCGACATGGCAATAACCCCCCGATT-5’\"\n",
    "result=\"\"\n",
    "for x in strDNA:\n",
    "    if x==\"T\":\n",
    "        x=\"U\"\n",
    "    result=result+x\n",
    "    res = result[::-1]\n",
    "print(res)\n",
    "print(\"This is how the transcript should be written- Don't get caught after doing all that work\")"
   ]
  },
  {
   "cell_type": "markdown",
   "metadata": {},
   "source": [
    "### Translation: The ribosome \"wratchets\" along the reading (sense) strand in the 5'->3' direction\n",
    "Enzymes involved:-\n",
    "- fMet-tRNA-synthetase (only for prokaryotes) - attaches N-Formylmethionine to tRNA\n",
    "- Aminoacyl-tRNA-synthetase - attaches amino acid to tRNA\n",
    "- Peptidyl transferase\n",
    "\n",
    "There are a number of non-enzymes that are also used including:-\n",
    "- Elongation factors (EF-Tu) -carries aminoacyl-tRNA to ribosome\n",
    "- Initiation factor\n",
    "- Translocase (EF-G) - elongation factor that utilizes GTP.\n",
    "- Release factor"
   ]
  },
  {
   "cell_type": "code",
   "execution_count": 20,
   "metadata": {},
   "outputs": [
    {
     "name": "stdout",
     "output_type": "stream",
     "text": [
      "['MET', 'ARG', 'ALA', 'ARG', 'THR', 'SER', 'ASN', 'SER', 'HIS', 'GLU', 'SER', 'LEU', 'SER', 'THR', 'THR', 'ARG', 'THR', 'ILE', 'PHE', 'LEU', 'ARG', 'ILE', 'PHE', 'LEU', 'GLU', 'ALA', 'VAL', 'PRO', 'PHE', 'PHE', 'GLY', 'GLY', 'STP']\n"
     ]
    }
   ],
   "source": [
    "dictionary={'UUU':'PHE','UUC':'PHE','UUA':'PHE','UUG':'PHE','UCU':'SER','UCC':\n",
    "'SER','UCA':'SER','UCG':'SER','UAU':'TYR','UAC':'TYR','UAA':'STOP','UAG':'STP',\n",
    "'UGU':'CYS','UGC':'CYS','UGA':'STP','UGG':'TRP','CUU':'LEU','CUC':'LEU','CUA':\n",
    "'LEU','CUG':'LEU','CCU':'PRO','CCC':'PRO','CCA':'PRO','CCG':'PRO','CAU':'HIS',\n",
    "'CAC':'HIS','CAA':'GLN','CAG':'GLN','CGU':'ARG','CGC':'ARG','CGA':'ARG','CGG':\n",
    "'ARG','AUU':'ILE','AUC':'ILE','AUA':'ILE','AUG':'MET','ACU':'THR','ACC':'THR'\n",
    ",'ACA':'THR','ACG':'THR','AAU':'ASN','AAC':'ASN','AAA':'LYS','AAG':'LYS','AGU'\n",
    ":'SER','AGC':'SER','AGA':'ARG','AGG':'ARG','GUU':'VAL','GUC':'VAL','GUA':'VAL',\n",
    "'GUG':'VAL','GCU':'ALA','GCC':'ALA','GCA':'ALA','GCG':'ALA','GAU':'ASP','GAC':\n",
    "'ASP','GAA':'GLU','GAG':'GLU','GGU':'GLY','GGC':'GLY','GGA':'GLY','GGG':'GLY'}\n",
    "strRNA=\"AUGAGAGCAAGAACGUCGAACAGUCAUGAAAGUCUUAGUACCACACGUACCAUCUUACUGAGAAUAUUGCUUGAAGCUGUACCGUUAUUGGGGGGCUAA\"\n",
    "result=\"\"\n",
    "i = 0\n",
    "while i < len(strRNA)-2: \n",
    "    s=strRNA[i: i+3]\n",
    "    for key,value in dictionary.items():\n",
    "        if s == key:\n",
    "            s=value\n",
    "    result =result+s\n",
    "    i=i+3\n",
    "def chunk_str(str, chunk_size):\n",
    "    return [str[i:i+chunk_size] for i in range(0, len(str), chunk_size)]\n",
    "print(chunk_str(result, 3))"
   ]
  },
  {
   "cell_type": "markdown",
   "metadata": {},
   "source": [
    "### Biopython Example- BioPython is a Bioinformatics program specifically for python\n",
    "\n",
    "Biopython is a set of freely available tools for biological computation written in Python by an international team of developers. We can make function calls in our script that point to the Biopython library\n",
    "\n",
    "https://biopython.org/"
   ]
  },
  {
   "cell_type": "code",
   "execution_count": 22,
   "metadata": {},
   "outputs": [
    {
     "name": "stdout",
     "output_type": "stream",
     "text": [
      "AGTACACTGGTT\n",
      "AGTACACTGGTT - Sequence\n",
      "TCATGTGACCAA - Complement\n",
      "AACCAGTGTACT - Reverse Complement\n",
      "12\n",
      "2\n",
      "25.0\n",
      "GC% Percent:\t41.666666666666664\n",
      "AGUACACUGGUU\n",
      "STLV\n"
     ]
    }
   ],
   "source": [
    "import numpy as np # linear algebra\n",
    "import pandas as pd # data processing, CSV file I/O (e.g. pd.read_csv)\n",
    "import Bio\n",
    "from Bio.Seq import Seq\n",
    "from Bio.SeqUtils import GC\n",
    "DNA = Seq(\"AGTACACTGGTT\")\n",
    "print(DNA)\n",
    "print(DNA + \" - Sequence\")\n",
    "print(DNA.complement() + \" - Complement\")\n",
    "print(DNA.reverse_complement() + \" - Reverse Complement\")\n",
    "print(len(DNA))\n",
    "\n",
    "print(DNA.count(\"AC\"))\n",
    "DNAcount = (DNA.count(\"A\")/len(DNA))\n",
    "print(DNAcount*100)\n",
    "print(\"GC% Percent:\\t\" + str(GC(DNA)))\n",
    "mRNA = DNA.transcribe()\n",
    "print(mRNA)\n",
    "protein = mRNA.translate()\n",
    "print(protein)"
   ]
  },
  {
   "cell_type": "markdown",
   "metadata": {},
   "source": [
    "### Reverse Translation of a Protein: Gives all possible DNA Sequences Given a Protein Sequence: BEWARE: For large protein sequences will give extensive numbers of DNA sequences"
   ]
  },
  {
   "cell_type": "markdown",
   "metadata": {},
   "source": [
    "**Save in a text editor, name the file, then call the file python3 <you_file_name>.py in the terminal**"
   ]
  },
  {
   "cell_type": "code",
   "execution_count": 10,
   "metadata": {},
   "outputs": [],
   "source": [
    "import itertools\n",
    "\n",
    "d = {\n",
    "    'A': ['GCA', 'GCC', 'GCG', 'GCT'],\n",
    "    'C': ['TGC', 'TGT'],\n",
    "    'D': ['GAC', 'GAT'],\n",
    "    'E': ['GAA', 'GAG'],\n",
    "    'F': ['TTC', 'TTT'],\n",
    "    'G': ['GGA', 'GGC', 'GGG', 'GGT'],\n",
    "    'H': ['CAC', 'CAT'],\n",
    "    'I': ['ATA', 'ATC', 'ATT'],\n",
    "    'K': ['AAA', 'AAG'],\n",
    "    'L': ['CTA', 'CTC', 'CTG', 'CTT', 'TTA', 'TTG'],\n",
    "    'M': ['ATG'],\n",
    "    'N': ['AAC', 'AAT'],\n",
    "    'P': ['CCA', 'CCC', 'CCG', 'CCT'],\n",
    "    'Q': ['CAA', 'CAG'],\n",
    "    'R': ['AGA', 'AGG', 'CGA', 'CGC', 'CGG', 'CGT'],\n",
    "    'S': ['AGC', 'AGT', 'TCA', 'TCC', 'TCG', 'TCT'],\n",
    "    'T': ['ACA', 'ACC', 'ACG', 'ACT'],\n",
    "    'V': ['GTA', 'GTC', 'GTG', 'GTT'],\n",
    "    'W': ['TGG'],\n",
    "    'Y': ['TAC', 'TAT'],\n",
    "    '_': ['TAA', 'TAG', 'TGA'],\n",
    "}\n",
    "\n",
    "\n",
    "\n",
    "def rev_trans(protein):\n",
    "    l = [d[aa] for aa in protein]\n",
    "    for comb in itertools.product(*l):\n",
    "        yield \"\".join(comb)\n",
    "        \n",
    "if __name__ == '__main__':\n",
    "    import sys\n",
    "    protein_seq = sys.argv[1]\n",
    "    g = generator(protein_seq)\n",
    "    for dna_seq in g:\n",
    "        print(dna_seq)\n",
    "        \n",
    "\n"
   ]
  },
  {
   "cell_type": "code",
   "execution_count": null,
   "metadata": {},
   "outputs": [],
   "source": [
    "\n",
    "\n",
    "\n"
   ]
  },
  {
   "cell_type": "code",
   "execution_count": null,
   "metadata": {},
   "outputs": [],
   "source": []
  },
  {
   "cell_type": "code",
   "execution_count": null,
   "metadata": {},
   "outputs": [],
   "source": []
  },
  {
   "cell_type": "code",
   "execution_count": null,
   "metadata": {},
   "outputs": [],
   "source": []
  }
 ],
 "metadata": {
  "kernelspec": {
   "display_name": "Python 3",
   "language": "python",
   "name": "python3"
  },
  "language_info": {
   "codemirror_mode": {
    "name": "ipython",
    "version": 3
   },
   "file_extension": ".py",
   "mimetype": "text/x-python",
   "name": "python",
   "nbconvert_exporter": "python",
   "pygments_lexer": "ipython3",
   "version": "3.8.8"
  },
  "latex_envs": {
   "LaTeX_envs_menu_present": true,
   "autoclose": false,
   "autocomplete": true,
   "bibliofile": "biblio.bib",
   "cite_by": "apalike",
   "current_citInitial": 1,
   "eqLabelWithNumbers": true,
   "eqNumInitial": 1,
   "hotkeys": {
    "equation": "Ctrl-E",
    "itemize": "Ctrl-I"
   },
   "labels_anchors": false,
   "latex_user_defs": false,
   "report_style_numbering": false,
   "user_envs_cfg": false
  },
  "varInspector": {
   "cols": {
    "lenName": 16,
    "lenType": 16,
    "lenVar": 40
   },
   "kernels_config": {
    "python": {
     "delete_cmd_postfix": "",
     "delete_cmd_prefix": "del ",
     "library": "var_list.py",
     "varRefreshCmd": "print(var_dic_list())"
    },
    "r": {
     "delete_cmd_postfix": ") ",
     "delete_cmd_prefix": "rm(",
     "library": "var_list.r",
     "varRefreshCmd": "cat(var_dic_list()) "
    }
   },
   "types_to_exclude": [
    "module",
    "function",
    "builtin_function_or_method",
    "instance",
    "_Feature"
   ],
   "window_display": false
  }
 },
 "nbformat": 4,
 "nbformat_minor": 1
}
